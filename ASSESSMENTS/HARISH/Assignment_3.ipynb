{
  "nbformat": 4,
  "nbformat_minor": 0,
  "metadata": {
    "colab": {
      "provenance": []
    },
    "kernelspec": {
      "name": "python3",
      "display_name": "Python 3"
    },
    "language_info": {
      "name": "python"
    }
  },
  "cells": [
    {
      "cell_type": "code",
      "source": [
        "from google.colab import drive\n",
        "drive.mount('/content/drive')"
      ],
      "metadata": {
        "id": "Y-bC110zjtCd",
        "colab": {
          "base_uri": "https://localhost:8080/"
        },
        "outputId": "620112ac-f0c3-4318-d9dc-12b147c1935b"
      },
      "execution_count": null,
      "outputs": [
        {
          "output_type": "stream",
          "name": "stdout",
          "text": [
            "Drive already mounted at /content/drive; to attempt to forcibly remount, call drive.mount(\"/content/drive\", force_remount=True).\n"
          ]
        }
      ]
    },
    {
      "cell_type": "code",
      "source": [
        "cd/content/drive/MyDrive/AI_IBM"
      ],
      "metadata": {
        "colab": {
          "base_uri": "https://localhost:8080/"
        },
        "id": "48f53Q5_lbR9",
        "outputId": "92b403d3-b2c9-4db0-bf64-dcb6596fd948"
      },
      "execution_count": null,
      "outputs": [
        {
          "output_type": "stream",
          "name": "stdout",
          "text": [
            "/content/drive/MyDrive/AI_IBM\n"
          ]
        }
      ]
    },
    {
      "cell_type": "code",
      "source": [
        "!unzip Flowers-Dataset.zip"
      ],
      "metadata": {
        "colab": {
          "base_uri": "https://localhost:8080/"
        },
        "id": "1n9g1XR-ljay",
        "outputId": "a14cac56-738a-4633-f71f-698116575c2f"
      },
      "execution_count": null,
      "outputs": [
        {
          "output_type": "stream",
          "name": "stdout",
          "text": [
            "Archive:  Flowers-Dataset.zip\n",
            "replace flowers/daisy/100080576_f52e8ee070_n.jpg? [y]es, [n]o, [A]ll, [N]one, [r]ename: N\n"
          ]
        }
      ]
    },
    {
      "cell_type": "code",
      "source": [
        "from tensorflow.keras.preprocessing.image import ImageDataGenerator"
      ],
      "metadata": {
        "id": "FQT6glMqmBal"
      },
      "execution_count": null,
      "outputs": []
    },
    {
      "cell_type": "code",
      "source": [
        "train_datagen=ImageDataGenerator(rescale=1./255, zoom_range=0.2,horizontal_flip=True,vertical_flip=False)"
      ],
      "metadata": {
        "id": "PBVi5yNPmGoz"
      },
      "execution_count": null,
      "outputs": []
    },
    {
      "cell_type": "code",
      "source": [
        "test_datagen=ImageDataGenerator(rescale=1./255)"
      ],
      "metadata": {
        "id": "9lDpt8nzmJdU"
      },
      "execution_count": null,
      "outputs": []
    },
    {
      "cell_type": "code",
      "source": [
        "x_train=train_datagen.flow_from_directory(r\"/content/drive/MyDrive/AI_IBM/flowers\",target_size=(64,64),class_mode='categorical',batch_size=24)"
      ],
      "metadata": {
        "colab": {
          "base_uri": "https://localhost:8080/"
        },
        "id": "uFANu_SPmQrK",
        "outputId": "5a37f22a-1631-4008-f6be-6b6c9dc60b56"
      },
      "execution_count": null,
      "outputs": [
        {
          "output_type": "stream",
          "name": "stdout",
          "text": [
            "Found 4317 images belonging to 5 classes.\n"
          ]
        }
      ]
    },
    {
      "cell_type": "code",
      "source": [
        "x_test=test_datagen.flow_from_directory(r\"/content/drive/MyDrive/AI_IBM/flowers\",target_size=(64,64),class_mode='categorical',batch_size=24)"
      ],
      "metadata": {
        "colab": {
          "base_uri": "https://localhost:8080/"
        },
        "id": "YJoAv4pKmVCp",
        "outputId": "af9c9dd6-8127-4fad-9b51-02626f9c5fd8"
      },
      "execution_count": null,
      "outputs": [
        {
          "output_type": "stream",
          "name": "stdout",
          "text": [
            "Found 4317 images belonging to 5 classes.\n"
          ]
        }
      ]
    },
    {
      "cell_type": "code",
      "source": [
        "x_train.class_indices"
      ],
      "metadata": {
        "colab": {
          "base_uri": "https://localhost:8080/"
        },
        "id": "OS7wIzoQmZoC",
        "outputId": "98f63d0a-4c7a-494a-8de8-2cc272c0b3e8"
      },
      "execution_count": null,
      "outputs": [
        {
          "output_type": "execute_result",
          "data": {
            "text/plain": [
              "{'daisy': 0, 'dandelion': 1, 'rose': 2, 'sunflower': 3, 'tulip': 4}"
            ]
          },
          "metadata": {},
          "execution_count": 9
        }
      ]
    },
    {
      "cell_type": "markdown",
      "source": [
        "\n",
        "Step -3 Initializing CNN And Create Model"
      ],
      "metadata": {
        "id": "L6lj0g4Zmerg"
      }
    },
    {
      "cell_type": "code",
      "source": [
        "from tensorflow.keras.models import Sequential\n",
        "from tensorflow.keras.layers import Dense,Convolution2D,MaxPooling2D,Flatten"
      ],
      "metadata": {
        "id": "sjlI7HhPmfgn"
      },
      "execution_count": null,
      "outputs": []
    },
    {
      "cell_type": "markdown",
      "source": [
        "Step -4 Add layers"
      ],
      "metadata": {
        "id": "mPsFn5EQml1m"
      }
    },
    {
      "cell_type": "code",
      "source": [
        "model=Sequential()"
      ],
      "metadata": {
        "id": "qiIBwNvemmjO"
      },
      "execution_count": null,
      "outputs": []
    },
    {
      "cell_type": "markdown",
      "source": [
        "4.1 Input Layers (Convolution ,MaxPooling,Flatten)"
      ],
      "metadata": {
        "id": "RXUL2gx4mqNf"
      }
    },
    {
      "cell_type": "code",
      "source": [
        "model.add(Convolution2D(32,(3,3),input_shape=(64,64,3),activation='relu'))"
      ],
      "metadata": {
        "id": "PchRKdOjmuAc"
      },
      "execution_count": null,
      "outputs": []
    },
    {
      "cell_type": "code",
      "source": [
        "model.add(MaxPooling2D(pool_size=(2,2)))"
      ],
      "metadata": {
        "id": "rYEatAZBmxYd"
      },
      "execution_count": null,
      "outputs": []
    },
    {
      "cell_type": "code",
      "source": [
        "model.add(Flatten())"
      ],
      "metadata": {
        "id": "xxxSsJnEmz_V"
      },
      "execution_count": null,
      "outputs": []
    },
    {
      "cell_type": "code",
      "source": [
        "model.summary()"
      ],
      "metadata": {
        "colab": {
          "base_uri": "https://localhost:8080/"
        },
        "id": "dkExZFhYm3-c",
        "outputId": "eb8aed0c-bd8a-4afb-8704-c08e9444eb29"
      },
      "execution_count": null,
      "outputs": [
        {
          "output_type": "stream",
          "name": "stdout",
          "text": [
            "Model: \"sequential\"\n",
            "_________________________________________________________________\n",
            " Layer (type)                Output Shape              Param #   \n",
            "=================================================================\n",
            " conv2d (Conv2D)             (None, 62, 62, 32)        896       \n",
            "                                                                 \n",
            " max_pooling2d (MaxPooling2D  (None, 31, 31, 32)       0         \n",
            " )                                                               \n",
            "                                                                 \n",
            " flatten (Flatten)           (None, 30752)             0         \n",
            "                                                                 \n",
            "=================================================================\n",
            "Total params: 896\n",
            "Trainable params: 896\n",
            "Non-trainable params: 0\n",
            "_________________________________________________________________\n"
          ]
        }
      ]
    },
    {
      "cell_type": "markdown",
      "source": [
        "4.2 Hidden Layers"
      ],
      "metadata": {
        "id": "MdBYadV3nHsF"
      }
    },
    {
      "cell_type": "code",
      "source": [
        "model.add(Dense(300,activation='relu'))\n",
        "model.add(Dense(150,activation='relu'))"
      ],
      "metadata": {
        "id": "i2NMt9yrnI9d"
      },
      "execution_count": null,
      "outputs": []
    },
    {
      "cell_type": "markdown",
      "source": [
        "\n",
        "4.3 Output Layers"
      ],
      "metadata": {
        "id": "XZBc3PHpnNbr"
      }
    },
    {
      "cell_type": "code",
      "source": [
        "model.add(Dense(5,activation='softmax'))"
      ],
      "metadata": {
        "id": "yycl7ZtnnOvK"
      },
      "execution_count": null,
      "outputs": []
    },
    {
      "cell_type": "code",
      "source": [
        "model.compile(loss='categorical_crossentropy',optimizer='adam',metrics=['accuracy'])"
      ],
      "metadata": {
        "id": "vsznt1DTnRQS"
      },
      "execution_count": null,
      "outputs": []
    },
    {
      "cell_type": "code",
      "source": [
        "len(x_train)"
      ],
      "metadata": {
        "colab": {
          "base_uri": "https://localhost:8080/"
        },
        "id": "psBji-qAnTlT",
        "outputId": "aeb2dede-1ffe-4ed5-d96f-78d37cb30a96"
      },
      "execution_count": null,
      "outputs": [
        {
          "output_type": "execute_result",
          "data": {
            "text/plain": [
              "180"
            ]
          },
          "metadata": {},
          "execution_count": 19
        }
      ]
    },
    {
      "cell_type": "markdown",
      "source": [
        "Step -5 Train the Model"
      ],
      "metadata": {
        "id": "OoEgTT2anYbK"
      }
    },
    {
      "cell_type": "code",
      "source": [
        "model.fit_generator(x_train,steps_per_epoch=len(x_train), validation_data=x_test, validation_steps=len(x_test), epochs= 30)"
      ],
      "metadata": {
        "colab": {
          "base_uri": "https://localhost:8080/"
        },
        "id": "UNk38UCgnZW5",
        "outputId": "dad995b5-bdec-4197-8069-c2925bad3d4b"
      },
      "execution_count": null,
      "outputs": [
        {
          "metadata": {
            "tags": null
          },
          "name": "stderr",
          "output_type": "stream",
          "text": [
            "/usr/local/lib/python3.7/dist-packages/ipykernel_launcher.py:1: UserWarning: `Model.fit_generator` is deprecated and will be removed in a future version. Please use `Model.fit`, which supports generators.\n",
            "  \"\"\"Entry point for launching an IPython kernel.\n"
          ]
        },
        {
          "output_type": "stream",
          "name": "stdout",
          "text": [
            "Epoch 1/30\n",
            "180/180 [==============================] - 539s 3s/step - loss: 1.2262 - accuracy: 0.5008 - val_loss: 1.3067 - val_accuracy: 0.4959\n",
            "Epoch 2/30\n",
            "180/180 [==============================] - 65s 360ms/step - loss: 0.9982 - accuracy: 0.6092 - val_loss: 0.9071 - val_accuracy: 0.6518\n",
            "Epoch 3/30\n",
            "180/180 [==============================] - 63s 350ms/step - loss: 0.9337 - accuracy: 0.6382 - val_loss: 0.8871 - val_accuracy: 0.6574\n",
            "Epoch 4/30\n",
            "180/180 [==============================] - 64s 357ms/step - loss: 0.8495 - accuracy: 0.6778 - val_loss: 1.0011 - val_accuracy: 0.6296\n",
            "Epoch 5/30\n",
            "180/180 [==============================] - 63s 350ms/step - loss: 0.8044 - accuracy: 0.6912 - val_loss: 0.7725 - val_accuracy: 0.7014\n",
            "Epoch 6/30\n",
            "180/180 [==============================] - 63s 349ms/step - loss: 0.7469 - accuracy: 0.7174 - val_loss: 0.7109 - val_accuracy: 0.7320\n",
            "Epoch 7/30\n",
            "180/180 [==============================] - 65s 359ms/step - loss: 0.6911 - accuracy: 0.7403 - val_loss: 0.6169 - val_accuracy: 0.7739\n",
            "Epoch 8/30\n",
            "180/180 [==============================] - 63s 353ms/step - loss: 0.6428 - accuracy: 0.7545 - val_loss: 0.6712 - val_accuracy: 0.7424\n",
            "Epoch 9/30\n",
            "180/180 [==============================] - 66s 365ms/step - loss: 0.6243 - accuracy: 0.7623 - val_loss: 0.5460 - val_accuracy: 0.8010\n",
            "Epoch 10/30\n",
            "180/180 [==============================] - 64s 356ms/step - loss: 0.5638 - accuracy: 0.7885 - val_loss: 0.5537 - val_accuracy: 0.7820\n",
            "Epoch 11/30\n",
            "180/180 [==============================] - 63s 350ms/step - loss: 0.5468 - accuracy: 0.7948 - val_loss: 0.4838 - val_accuracy: 0.8149\n",
            "Epoch 12/30\n",
            "180/180 [==============================] - 64s 355ms/step - loss: 0.4855 - accuracy: 0.8175 - val_loss: 0.4960 - val_accuracy: 0.8151\n",
            "Epoch 13/30\n",
            "180/180 [==============================] - 63s 350ms/step - loss: 0.4574 - accuracy: 0.8365 - val_loss: 0.3337 - val_accuracy: 0.8798\n",
            "Epoch 14/30\n",
            "180/180 [==============================] - 65s 364ms/step - loss: 0.4429 - accuracy: 0.8372 - val_loss: 0.3569 - val_accuracy: 0.8694\n",
            "Epoch 15/30\n",
            "180/180 [==============================] - 63s 352ms/step - loss: 0.4245 - accuracy: 0.8390 - val_loss: 0.4004 - val_accuracy: 0.8487\n",
            "Epoch 16/30\n",
            "180/180 [==============================] - 65s 360ms/step - loss: 0.3932 - accuracy: 0.8585 - val_loss: 0.2820 - val_accuracy: 0.8995\n",
            "Epoch 17/30\n",
            "180/180 [==============================] - 63s 350ms/step - loss: 0.3514 - accuracy: 0.8770 - val_loss: 0.2935 - val_accuracy: 0.8921\n",
            "Epoch 18/30\n",
            "180/180 [==============================] - 64s 355ms/step - loss: 0.3180 - accuracy: 0.8865 - val_loss: 0.2288 - val_accuracy: 0.9166\n",
            "Epoch 19/30\n",
            "180/180 [==============================] - 63s 350ms/step - loss: 0.3065 - accuracy: 0.8967 - val_loss: 0.2945 - val_accuracy: 0.8946\n",
            "Epoch 20/30\n",
            "180/180 [==============================] - 64s 354ms/step - loss: 0.2916 - accuracy: 0.8974 - val_loss: 0.2304 - val_accuracy: 0.9192\n",
            "Epoch 21/30\n",
            "180/180 [==============================] - 65s 359ms/step - loss: 0.2677 - accuracy: 0.9025 - val_loss: 0.1923 - val_accuracy: 0.9307\n",
            "Epoch 22/30\n",
            "180/180 [==============================] - 64s 354ms/step - loss: 0.2680 - accuracy: 0.9046 - val_loss: 0.1658 - val_accuracy: 0.9419\n",
            "Epoch 23/30\n",
            "180/180 [==============================] - 65s 360ms/step - loss: 0.2521 - accuracy: 0.9094 - val_loss: 0.1534 - val_accuracy: 0.9432\n",
            "Epoch 24/30\n",
            "180/180 [==============================] - 63s 352ms/step - loss: 0.2156 - accuracy: 0.9238 - val_loss: 0.1602 - val_accuracy: 0.9446\n",
            "Epoch 25/30\n",
            "180/180 [==============================] - 64s 355ms/step - loss: 0.2089 - accuracy: 0.9289 - val_loss: 0.1161 - val_accuracy: 0.9599\n",
            "Epoch 26/30\n",
            "180/180 [==============================] - 64s 354ms/step - loss: 0.2136 - accuracy: 0.9266 - val_loss: 0.2226 - val_accuracy: 0.9217\n",
            "Epoch 27/30\n",
            "180/180 [==============================] - 63s 353ms/step - loss: 0.2101 - accuracy: 0.9296 - val_loss: 0.1854 - val_accuracy: 0.9351\n",
            "Epoch 28/30\n",
            "180/180 [==============================] - 65s 359ms/step - loss: 0.1915 - accuracy: 0.9321 - val_loss: 0.0983 - val_accuracy: 0.9683\n",
            "Epoch 29/30\n",
            "180/180 [==============================] - 62s 347ms/step - loss: 0.1620 - accuracy: 0.9446 - val_loss: 0.1489 - val_accuracy: 0.9483\n",
            "Epoch 30/30\n",
            "180/180 [==============================] - 63s 351ms/step - loss: 0.1471 - accuracy: 0.9490 - val_loss: 0.1800 - val_accuracy: 0.9435\n"
          ]
        },
        {
          "output_type": "execute_result",
          "data": {
            "text/plain": [
              "<keras.callbacks.History at 0x7feb6702ff50>"
            ]
          },
          "metadata": {},
          "execution_count": 20
        }
      ]
    },
    {
      "cell_type": "markdown",
      "source": [
        "Step -6 Save The model"
      ],
      "metadata": {
        "id": "H0Mp831OnujD"
      }
    },
    {
      "cell_type": "code",
      "source": [
        "model.save('Flowers_classification_model1.h5')"
      ],
      "metadata": {
        "id": "aWwqSxFVnvwo"
      },
      "execution_count": null,
      "outputs": []
    },
    {
      "cell_type": "markdown",
      "source": [
        "Step -7 Test The model"
      ],
      "metadata": {
        "id": "pRPPk6X3nylZ"
      }
    },
    {
      "cell_type": "code",
      "source": [
        "ls"
      ],
      "metadata": {
        "id": "ES0FzaDln0jQ",
        "colab": {
          "base_uri": "https://localhost:8080/"
        },
        "outputId": "b49dcfc8-80da-4d6f-eead-e60535053881"
      },
      "execution_count": null,
      "outputs": [
        {
          "output_type": "stream",
          "name": "stdout",
          "text": [
            "\u001b[0m\u001b[01;34mflowers\u001b[0m/  Flowers_classification_model1.h5  Flowers-Dataset.zip\n"
          ]
        }
      ]
    },
    {
      "cell_type": "code",
      "source": [
        "import numpy as np\n",
        "from tensorflow.keras.models import load_model\n",
        "from tensorflow.keras.preprocessing import image"
      ],
      "metadata": {
        "id": "EjUf2-NKn29Q"
      },
      "execution_count": null,
      "outputs": []
    },
    {
      "cell_type": "code",
      "source": [
        "# Load the model\n",
        "model=load_model('Flowers_classification_model1.h5')"
      ],
      "metadata": {
        "id": "BWGAZdJbn6i3"
      },
      "execution_count": null,
      "outputs": []
    },
    {
      "cell_type": "code",
      "source": [
        "img=image.load_img(r\"/content/drive/MyDrive/AI_IBM/flowers/s3.jpg\",target_size=(64,64))\n",
        "x=image.img_to_array(img)\n",
        "x=np.expand_dims(x,axis=0)\n",
        "y=np.argmax(model.predict(x),axis=1)\n",
        "# x_train.class_indices\n",
        "index=['daisy','dandelion','rose','sunflower','tulip']\n",
        "index[y[0]]"
      ],
      "metadata": {
        "colab": {
          "base_uri": "https://localhost:8080/",
          "height": 35
        },
        "id": "QnpaxxOCn9aQ",
        "outputId": "0ae1e807-4ffe-4c9a-a924-1460ff466b91"
      },
      "execution_count": null,
      "outputs": [
        {
          "output_type": "execute_result",
          "data": {
            "text/plain": [
              "'daisy'"
            ],
            "application/vnd.google.colaboratory.intrinsic+json": {
              "type": "string"
            }
          },
          "metadata": {},
          "execution_count": 25
        }
      ]
    },
    {
      "cell_type": "markdown",
      "source": [
        "** percent of accuracy with this model**\n",
        "**Team ID : PNT2022TMID03893**"
      ],
      "metadata": {
        "id": "SQuRvj8koNho"
      }
    }
  ]
}